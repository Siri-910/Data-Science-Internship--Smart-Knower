{
 "cells": [
  {
   "cell_type": "markdown",
   "id": "ed23eee8",
   "metadata": {},
   "source": [
    "### DataScience Minor Project\n"
   ]
  },
  {
   "cell_type": "code",
   "execution_count": 2,
   "id": "0bc8a0e8",
   "metadata": {},
   "outputs": [],
   "source": [
    "import pandas as pd\n",
    "import matplotlib.pyplot as plt"
   ]
  },
  {
   "cell_type": "code",
   "execution_count": 3,
   "id": "5496bc95",
   "metadata": {},
   "outputs": [],
   "source": [
    "df=pd.read_csv(\"voice.csv\")"
   ]
  },
  {
   "cell_type": "code",
   "execution_count": 4,
   "id": "6dce5086",
   "metadata": {},
   "outputs": [
    {
     "data": {
      "text/html": [
       "<div>\n",
       "<style scoped>\n",
       "    .dataframe tbody tr th:only-of-type {\n",
       "        vertical-align: middle;\n",
       "    }\n",
       "\n",
       "    .dataframe tbody tr th {\n",
       "        vertical-align: top;\n",
       "    }\n",
       "\n",
       "    .dataframe thead th {\n",
       "        text-align: right;\n",
       "    }\n",
       "</style>\n",
       "<table border=\"1\" class=\"dataframe\">\n",
       "  <thead>\n",
       "    <tr style=\"text-align: right;\">\n",
       "      <th></th>\n",
       "      <th>meanfreq</th>\n",
       "      <th>sd</th>\n",
       "      <th>median</th>\n",
       "      <th>Q25</th>\n",
       "      <th>Q75</th>\n",
       "      <th>IQR</th>\n",
       "      <th>skew</th>\n",
       "      <th>kurt</th>\n",
       "      <th>sp.ent</th>\n",
       "      <th>sfm</th>\n",
       "      <th>...</th>\n",
       "      <th>centroid</th>\n",
       "      <th>meanfun</th>\n",
       "      <th>minfun</th>\n",
       "      <th>maxfun</th>\n",
       "      <th>meandom</th>\n",
       "      <th>mindom</th>\n",
       "      <th>maxdom</th>\n",
       "      <th>dfrange</th>\n",
       "      <th>modindx</th>\n",
       "      <th>label</th>\n",
       "    </tr>\n",
       "  </thead>\n",
       "  <tbody>\n",
       "    <tr>\n",
       "      <th>0</th>\n",
       "      <td>0.059781</td>\n",
       "      <td>0.064241</td>\n",
       "      <td>0.032027</td>\n",
       "      <td>0.015071</td>\n",
       "      <td>0.090193</td>\n",
       "      <td>0.075122</td>\n",
       "      <td>12.863462</td>\n",
       "      <td>274.402906</td>\n",
       "      <td>0.893369</td>\n",
       "      <td>0.491918</td>\n",
       "      <td>...</td>\n",
       "      <td>0.059781</td>\n",
       "      <td>0.084279</td>\n",
       "      <td>0.015702</td>\n",
       "      <td>0.275862</td>\n",
       "      <td>0.007812</td>\n",
       "      <td>0.007812</td>\n",
       "      <td>0.007812</td>\n",
       "      <td>0.000000</td>\n",
       "      <td>0.000000</td>\n",
       "      <td>male</td>\n",
       "    </tr>\n",
       "    <tr>\n",
       "      <th>1</th>\n",
       "      <td>0.066009</td>\n",
       "      <td>0.067310</td>\n",
       "      <td>0.040229</td>\n",
       "      <td>0.019414</td>\n",
       "      <td>0.092666</td>\n",
       "      <td>0.073252</td>\n",
       "      <td>22.423285</td>\n",
       "      <td>634.613855</td>\n",
       "      <td>0.892193</td>\n",
       "      <td>0.513724</td>\n",
       "      <td>...</td>\n",
       "      <td>0.066009</td>\n",
       "      <td>0.107937</td>\n",
       "      <td>0.015826</td>\n",
       "      <td>0.250000</td>\n",
       "      <td>0.009014</td>\n",
       "      <td>0.007812</td>\n",
       "      <td>0.054688</td>\n",
       "      <td>0.046875</td>\n",
       "      <td>0.052632</td>\n",
       "      <td>male</td>\n",
       "    </tr>\n",
       "    <tr>\n",
       "      <th>2</th>\n",
       "      <td>0.077316</td>\n",
       "      <td>0.083829</td>\n",
       "      <td>0.036718</td>\n",
       "      <td>0.008701</td>\n",
       "      <td>0.131908</td>\n",
       "      <td>0.123207</td>\n",
       "      <td>30.757155</td>\n",
       "      <td>1024.927705</td>\n",
       "      <td>0.846389</td>\n",
       "      <td>0.478905</td>\n",
       "      <td>...</td>\n",
       "      <td>0.077316</td>\n",
       "      <td>0.098706</td>\n",
       "      <td>0.015656</td>\n",
       "      <td>0.271186</td>\n",
       "      <td>0.007990</td>\n",
       "      <td>0.007812</td>\n",
       "      <td>0.015625</td>\n",
       "      <td>0.007812</td>\n",
       "      <td>0.046512</td>\n",
       "      <td>male</td>\n",
       "    </tr>\n",
       "    <tr>\n",
       "      <th>3</th>\n",
       "      <td>0.151228</td>\n",
       "      <td>0.072111</td>\n",
       "      <td>0.158011</td>\n",
       "      <td>0.096582</td>\n",
       "      <td>0.207955</td>\n",
       "      <td>0.111374</td>\n",
       "      <td>1.232831</td>\n",
       "      <td>4.177296</td>\n",
       "      <td>0.963322</td>\n",
       "      <td>0.727232</td>\n",
       "      <td>...</td>\n",
       "      <td>0.151228</td>\n",
       "      <td>0.088965</td>\n",
       "      <td>0.017798</td>\n",
       "      <td>0.250000</td>\n",
       "      <td>0.201497</td>\n",
       "      <td>0.007812</td>\n",
       "      <td>0.562500</td>\n",
       "      <td>0.554688</td>\n",
       "      <td>0.247119</td>\n",
       "      <td>male</td>\n",
       "    </tr>\n",
       "    <tr>\n",
       "      <th>4</th>\n",
       "      <td>0.135120</td>\n",
       "      <td>0.079146</td>\n",
       "      <td>0.124656</td>\n",
       "      <td>0.078720</td>\n",
       "      <td>0.206045</td>\n",
       "      <td>0.127325</td>\n",
       "      <td>1.101174</td>\n",
       "      <td>4.333713</td>\n",
       "      <td>0.971955</td>\n",
       "      <td>0.783568</td>\n",
       "      <td>...</td>\n",
       "      <td>0.135120</td>\n",
       "      <td>0.106398</td>\n",
       "      <td>0.016931</td>\n",
       "      <td>0.266667</td>\n",
       "      <td>0.712812</td>\n",
       "      <td>0.007812</td>\n",
       "      <td>5.484375</td>\n",
       "      <td>5.476562</td>\n",
       "      <td>0.208274</td>\n",
       "      <td>male</td>\n",
       "    </tr>\n",
       "  </tbody>\n",
       "</table>\n",
       "<p>5 rows × 21 columns</p>\n",
       "</div>"
      ],
      "text/plain": [
       "   meanfreq        sd    median       Q25       Q75       IQR       skew  \\\n",
       "0  0.059781  0.064241  0.032027  0.015071  0.090193  0.075122  12.863462   \n",
       "1  0.066009  0.067310  0.040229  0.019414  0.092666  0.073252  22.423285   \n",
       "2  0.077316  0.083829  0.036718  0.008701  0.131908  0.123207  30.757155   \n",
       "3  0.151228  0.072111  0.158011  0.096582  0.207955  0.111374   1.232831   \n",
       "4  0.135120  0.079146  0.124656  0.078720  0.206045  0.127325   1.101174   \n",
       "\n",
       "          kurt    sp.ent       sfm  ...  centroid   meanfun    minfun  \\\n",
       "0   274.402906  0.893369  0.491918  ...  0.059781  0.084279  0.015702   \n",
       "1   634.613855  0.892193  0.513724  ...  0.066009  0.107937  0.015826   \n",
       "2  1024.927705  0.846389  0.478905  ...  0.077316  0.098706  0.015656   \n",
       "3     4.177296  0.963322  0.727232  ...  0.151228  0.088965  0.017798   \n",
       "4     4.333713  0.971955  0.783568  ...  0.135120  0.106398  0.016931   \n",
       "\n",
       "     maxfun   meandom    mindom    maxdom   dfrange   modindx  label  \n",
       "0  0.275862  0.007812  0.007812  0.007812  0.000000  0.000000   male  \n",
       "1  0.250000  0.009014  0.007812  0.054688  0.046875  0.052632   male  \n",
       "2  0.271186  0.007990  0.007812  0.015625  0.007812  0.046512   male  \n",
       "3  0.250000  0.201497  0.007812  0.562500  0.554688  0.247119   male  \n",
       "4  0.266667  0.712812  0.007812  5.484375  5.476562  0.208274   male  \n",
       "\n",
       "[5 rows x 21 columns]"
      ]
     },
     "execution_count": 4,
     "metadata": {},
     "output_type": "execute_result"
    }
   ],
   "source": [
    "df.head()"
   ]
  },
  {
   "cell_type": "code",
   "execution_count": 5,
   "id": "68137ce1",
   "metadata": {},
   "outputs": [
    {
     "data": {
      "image/png": "[encoded data removed]",
      "text/plain": [
       "<Figure size 432x288 with 1 Axes>"
      ]
     },
     "metadata": {},
     "output_type": "display_data"
    }
   ],
   "source": [
    "import matplotlib.pyplot as plt\n",
    "import pandas as pd\n",
    "df =  pd.read_csv('voice.csv')\n",
    "count=df.label.value_counts()\n",
    "labels_count='male','female'\n",
    "plt.pie(count, labels=labels_count,autopct='%1.1f%%')\n",
    "plt.title(\"Percentage distribution of label in pie chart\")\n",
    "plt.show()"
   ]
  },
  {
   "cell_type": "code",
   "execution_count": 7,
   "id": "6c2ec736",
   "metadata": {},
   "outputs": [
    {
     "name": "stdout",
     "output_type": "stream",
     "text": [
      "      meanfreq        sd    median       Q25       Q75       IQR       skew  \\\n",
      "0     0.059781  0.064241  0.032027  0.015071  0.090193  0.075122  12.863462   \n",
      "1     0.066009  0.067310  0.040229  0.019414  0.092666  0.073252  22.423285   \n",
      "2     0.077316  0.083829  0.036718  0.008701  0.131908  0.123207  30.757155   \n",
      "3     0.151228  0.072111  0.158011  0.096582  0.207955  0.111374   1.232831   \n",
      "4     0.135120  0.079146  0.124656  0.078720  0.206045  0.127325   1.101174   \n",
      "...        ...       ...       ...       ...       ...       ...        ...   \n",
      "3163  0.131884  0.084734  0.153707  0.049285  0.201144  0.151859   1.762129   \n",
      "3164  0.116221  0.089221  0.076758  0.042718  0.204911  0.162193   0.693730   \n",
      "3165  0.142056  0.095798  0.183731  0.033424  0.224360  0.190936   1.876502   \n",
      "3166  0.143659  0.090628  0.184976  0.043508  0.219943  0.176435   1.591065   \n",
      "3167  0.165509  0.092884  0.183044  0.070072  0.250827  0.180756   1.705029   \n",
      "\n",
      "             kurt    sp.ent       sfm      mode  centroid   meanfun    minfun  \\\n",
      "0      274.402906  0.893369  0.491918  0.000000  0.059781  0.084279  0.015702   \n",
      "1      634.613855  0.892193  0.513724  0.000000  0.066009  0.107937  0.015826   \n",
      "2     1024.927705  0.846389  0.478905  0.000000  0.077316  0.098706  0.015656   \n",
      "3        4.177296  0.963322  0.727232  0.083878  0.151228  0.088965  0.017798   \n",
      "4        4.333713  0.971955  0.783568  0.104261  0.135120  0.106398  0.016931   \n",
      "...           ...       ...       ...       ...       ...       ...       ...   \n",
      "3163     6.630383  0.962934  0.763182  0.200836  0.131884  0.182790  0.083770   \n",
      "3164     2.503954  0.960716  0.709570  0.013683  0.116221  0.188980  0.034409   \n",
      "3165     6.604509  0.946854  0.654196  0.008006  0.142056  0.209918  0.039506   \n",
      "3166     5.388298  0.950436  0.675470  0.212202  0.143659  0.172375  0.034483   \n",
      "3167     5.769115  0.938829  0.601529  0.267702  0.165509  0.185607  0.062257   \n",
      "\n",
      "        maxfun   meandom    mindom    maxdom   dfrange   modindx  \n",
      "0     0.275862  0.007812  0.007812  0.007812  0.000000  0.000000  \n",
      "1     0.250000  0.009014  0.007812  0.054688  0.046875  0.052632  \n",
      "2     0.271186  0.007990  0.007812  0.015625  0.007812  0.046512  \n",
      "3     0.250000  0.201497  0.007812  0.562500  0.554688  0.247119  \n",
      "4     0.266667  0.712812  0.007812  5.484375  5.476562  0.208274  \n",
      "...        ...       ...       ...       ...       ...       ...  \n",
      "3163  0.262295  0.832899  0.007812  4.210938  4.203125  0.161929  \n",
      "3164  0.275862  0.909856  0.039062  3.679688  3.640625  0.277897  \n",
      "3165  0.275862  0.494271  0.007812  2.937500  2.929688  0.194759  \n",
      "3166  0.250000  0.791360  0.007812  3.593750  3.585938  0.311002  \n",
      "3167  0.271186  0.227022  0.007812  0.554688  0.546875  0.350000  \n",
      "\n",
      "[3168 rows x 20 columns]\n",
      "0         male\n",
      "1         male\n",
      "2         male\n",
      "3         male\n",
      "4         male\n",
      "         ...  \n",
      "3163    female\n",
      "3164    female\n",
      "3165    female\n",
      "3166    female\n",
      "3167    female\n",
      "Name: label, Length: 3168, dtype: object\n",
      "(3168, 20)\n",
      "(3168,)\n"
     ]
    }
   ],
   "source": [
    "x=df.iloc[:,:-1]\n",
    "y=df.iloc[:,-1]\n",
    "print(x)\n",
    "print(y)\n",
    "print(x.shape)\n",
    "print(y.shape)"
   ]
  },
  {
   "cell_type": "code",
   "execution_count": 8,
   "id": "bf5a7bb5",
   "metadata": {},
   "outputs": [
    {
     "data": {
      "text/plain": [
       "meanfreq    0\n",
       "sd          0\n",
       "median      0\n",
       "Q25         0\n",
       "Q75         0\n",
       "IQR         0\n",
       "skew        0\n",
       "kurt        0\n",
       "sp.ent      0\n",
       "sfm         0\n",
       "mode        0\n",
       "centroid    0\n",
       "meanfun     0\n",
       "minfun      0\n",
       "maxfun      0\n",
       "meandom     0\n",
       "mindom      0\n",
       "maxdom      0\n",
       "dfrange     0\n",
       "modindx     0\n",
       "label       0\n",
       "dtype: int64"
      ]
     },
     "execution_count": 8,
     "metadata": {},
     "output_type": "execute_result"
    }
   ],
   "source": [
    "df.isnull().sum()"
   ]
  },
  {
   "cell_type": "code",
   "execution_count": 9,
   "id": "f753bf72",
   "metadata": {},
   "outputs": [
    {
     "data": {
      "text/plain": [
       "meanfreq    float64\n",
       "sd          float64\n",
       "median      float64\n",
       "Q25         float64\n",
       "Q75         float64\n",
       "IQR         float64\n",
       "skew        float64\n",
       "kurt        float64\n",
       "sp.ent      float64\n",
       "sfm         float64\n",
       "mode        float64\n",
       "centroid    float64\n",
       "meanfun     float64\n",
       "minfun      float64\n",
       "maxfun      float64\n",
       "meandom     float64\n",
       "mindom      float64\n",
       "maxdom      float64\n",
       "dfrange     float64\n",
       "modindx     float64\n",
       "label        object\n",
       "dtype: object"
      ]
     },
     "execution_count": 9,
     "metadata": {},
     "output_type": "execute_result"
    }
   ],
   "source": [
    "df.dtypes"
   ]
  },
  {
   "cell_type": "code",
   "execution_count": 10,
   "id": "8c468685",
   "metadata": {},
   "outputs": [
    {
     "data": {
      "text/plain": [
       "(3168, 21)"
      ]
     },
     "execution_count": 10,
     "metadata": {},
     "output_type": "execute_result"
    }
   ],
   "source": [
    "df.shape"
   ]
  },
  {
   "cell_type": "code",
   "execution_count": 11,
   "id": "1d5b5aef",
   "metadata": {},
   "outputs": [
    {
     "name": "stdout",
     "output_type": "stream",
     "text": [
      "      meanfreq        sd    median       Q25       Q75       IQR       skew  \\\n",
      "1565  0.157872  0.061829  0.135501  0.115211  0.224247  0.109036   2.815772   \n",
      "1740  0.191589  0.030978  0.182219  0.174786  0.208142  0.033356   4.093191   \n",
      "2636  0.204998  0.031124  0.199941  0.187496  0.228563  0.041067   3.001029   \n",
      "3035  0.192487  0.039218  0.197374  0.187905  0.204987  0.017082   3.878708   \n",
      "154   0.122448  0.086268  0.111622  0.038216  0.204514  0.166297  26.054664   \n",
      "...        ...       ...       ...       ...       ...       ...        ...   \n",
      "1492  0.148226  0.086716  0.143104  0.084131  0.226581  0.142450   1.400873   \n",
      "2025  0.186188  0.059803  0.195726  0.173183  0.227118  0.053935   1.980687   \n",
      "2102  0.185225  0.030270  0.186667  0.175714  0.197619  0.021905   3.074818   \n",
      "1268  0.180474  0.065063  0.197666  0.119497  0.239314  0.119817   2.216926   \n",
      "2974  0.175052  0.054396  0.175094  0.155013  0.203995  0.048981   2.287969   \n",
      "\n",
      "            kurt    sp.ent       sfm      mode  centroid   meanfun    minfun  \\\n",
      "1565   13.846216  0.931406  0.517460  0.116446  0.157872  0.113705  0.025840   \n",
      "1740   23.445858  0.838634  0.132974  0.178598  0.191589  0.156325  0.016016   \n",
      "2636   14.919266  0.834677  0.173671  0.189570  0.204998  0.158469  0.046921   \n",
      "3035   20.139787  0.824595  0.257017  0.199045  0.192487  0.186967  0.092593   \n",
      "154   798.071532  0.934388  0.674844  0.000000  0.122448  0.086614  0.016194   \n",
      "...          ...       ...       ...       ...       ...       ...       ...   \n",
      "1492    5.915086  0.967301  0.754309  0.005391  0.148226  0.127510  0.017003   \n",
      "2025    7.227563  0.922318  0.530253  0.193830  0.186188  0.172243  0.022890   \n",
      "2102   13.715229  0.808995  0.220770  0.180476  0.185225  0.164927  0.024279   \n",
      "1268    8.245348  0.917536  0.499576  0.240915  0.180474  0.133699  0.048193   \n",
      "2974    9.453142  0.925445  0.526080  0.170965  0.175052  0.155392  0.019531   \n",
      "\n",
      "        maxfun   meandom    mindom     maxdom    dfrange   modindx  \n",
      "1565  0.277778  0.329499  0.083008   0.844727   0.761719  0.425542  \n",
      "1740  0.258065  1.270312  0.179688   5.703125   5.523438  0.287836  \n",
      "2636  0.277457  1.218750  0.023438  14.109375  14.085938  0.076783  \n",
      "3035  0.243902  0.427344  0.200195   0.815430   0.615234  0.416149  \n",
      "154   0.228571  0.016959  0.007812   0.382812   0.375000  0.050000  \n",
      "...        ...       ...       ...        ...        ...       ...  \n",
      "1492  0.275862  0.745117  0.007812   6.421875   6.414062  0.159134  \n",
      "2025  0.262295  0.232244  0.039062   0.562500   0.523438  0.200746  \n",
      "2102  0.207792  0.992746  0.171875   6.296875   6.125000  0.090659  \n",
      "1268  0.279070  0.789742  0.023438   3.515625   3.492188  0.110067  \n",
      "2974  0.232558  1.158157  0.004883   3.247070   3.242188  0.297992  \n",
      "\n",
      "[2534 rows x 20 columns]\n",
      "      meanfreq        sd    median       Q25       Q75       IQR      skew  \\\n",
      "2834  0.230687  0.030193  0.230794  0.221270  0.246032  0.024762  3.143799   \n",
      "3093  0.160817  0.055693  0.164760  0.157396  0.188508  0.031111  7.035056   \n",
      "1370  0.203549  0.057338  0.222681  0.150145  0.254130  0.103986  1.440084   \n",
      "2607  0.236909  0.029605  0.241928  0.220241  0.253494  0.033253  3.055783   \n",
      "388   0.157272  0.072215  0.153149  0.101584  0.224825  0.123241  1.915628   \n",
      "...        ...       ...       ...       ...       ...       ...       ...   \n",
      "2924  0.173372  0.073989  0.190638  0.131436  0.228617  0.097181  1.908471   \n",
      "2465  0.198872  0.069883  0.222788  0.186414  0.247037  0.060622  1.428852   \n",
      "2319  0.213451  0.043488  0.213147  0.192310  0.244403  0.052093  1.409760   \n",
      "1364  0.191528  0.059902  0.175891  0.143565  0.251002  0.107436  1.194308   \n",
      "166   0.166469  0.077571  0.179003  0.108387  0.230117  0.121730  3.341124   \n",
      "\n",
      "           kurt    sp.ent       sfm      mode  centroid   meanfun    minfun  \\\n",
      "2834  14.330684  0.799588  0.138601  0.221270  0.230687  0.198254  0.050314   \n",
      "3093  67.101169  0.876356  0.460015  0.162551  0.160817  0.157423  0.021505   \n",
      "1370   4.637305  0.898344  0.315270  0.261232  0.203549  0.124409  0.047059   \n",
      "2607  14.597479  0.802884  0.118872  0.241928  0.236909  0.186651  0.047666   \n",
      "388    7.560275  0.961564  0.766334  0.225856  0.157272  0.105102  0.023290   \n",
      "...         ...       ...       ...       ...       ...       ...       ...   \n",
      "2924   7.353245  0.943016  0.610966  0.062367  0.173372  0.112939  0.016343   \n",
      "2465   4.064956  0.924548  0.509936  0.215589  0.198872  0.181329  0.047013   \n",
      "2319   4.121198  0.875223  0.276812  0.198388  0.213451  0.181085  0.047619   \n",
      "1364   3.670586  0.912657  0.415627  0.170187  0.191528  0.134617  0.047572   \n",
      "166   34.485625  0.961784  0.729937  0.050088  0.166469  0.103376  0.017167   \n",
      "\n",
      "        maxfun   meandom    mindom     maxdom    dfrange   modindx  \n",
      "2834  0.279070  1.167188  0.023438   9.164062   9.140625  0.107597  \n",
      "3093  0.188679  0.169020  0.161133   0.205078   0.043945  0.177778  \n",
      "1370  0.275862  1.019531  0.023438   8.226562   8.203125  0.087311  \n",
      "2607  0.279070  1.571875  0.023438   9.726562   9.703125  0.123188  \n",
      "388   0.195122  0.339583  0.148438   0.726562   0.578125  0.315637  \n",
      "...        ...       ...       ...        ...        ...       ...  \n",
      "2924  0.271186  0.276242  0.007812   1.070312   1.062500  0.237036  \n",
      "2465  0.279070  0.859525  0.023438   4.523438   4.500000  0.105412  \n",
      "2319  0.268156  1.270508  0.023438  11.625000  11.601562  0.111515  \n",
      "1364  0.274286  1.053421  0.023438   4.828125   4.804688  0.162602  \n",
      "166   0.275862  1.168870  0.007812   6.531250   6.523438  0.272794  \n",
      "\n",
      "[634 rows x 20 columns]\n",
      "1565      male\n",
      "1740    female\n",
      "2636    female\n",
      "3035    female\n",
      "154       male\n",
      "         ...  \n",
      "1492      male\n",
      "2025    female\n",
      "2102    female\n",
      "1268      male\n",
      "2974    female\n",
      "Name: label, Length: 2534, dtype: object\n",
      "2834    female\n",
      "3093    female\n",
      "1370      male\n",
      "2607    female\n",
      "388       male\n",
      "         ...  \n",
      "2924    female\n",
      "2465    female\n",
      "2319    female\n",
      "1364      male\n",
      "166       male\n",
      "Name: label, Length: 634, dtype: object\n"
     ]
    }
   ],
   "source": [
    "from sklearn.model_selection import train_test_split\n",
    "x_train,x_test,y_train,y_test=train_test_split(x,y,test_size=0.20)\n",
    "print(x_train)\n",
    "print(x_test)\n",
    "print(y_train)\n",
    "print(y_test)"
   ]
  },
  {
   "cell_type": "code",
   "execution_count": 12,
   "id": "d7a08c26",
   "metadata": {},
   "outputs": [],
   "source": [
    "ds=pd.Series(df.columns)"
   ]
  },
  {
   "cell_type": "code",
   "execution_count": 13,
   "id": "0b89148b",
   "metadata": {},
   "outputs": [
    {
     "name": "stdout",
     "output_type": "stream",
     "text": [
      "0     meanfreq\n",
      "1           sd\n",
      "2       median\n",
      "3          Q25\n",
      "4          Q75\n",
      "5          IQR\n",
      "6         skew\n",
      "7         kurt\n",
      "8       sp.ent\n",
      "9          sfm\n",
      "10        mode\n",
      "11    centroid\n",
      "12     meanfun\n",
      "13      minfun\n",
      "14      maxfun\n",
      "15     meandom\n",
      "16      mindom\n",
      "17      maxdom\n",
      "18     dfrange\n",
      "19     modindx\n",
      "20       label\n",
      "dtype: object\n"
     ]
    }
   ],
   "source": [
    "print(ds)"
   ]
  },
  {
   "cell_type": "code",
   "execution_count": null,
   "id": "aebaa6b8",
   "metadata": {},
   "outputs": [],
   "source": []
  },
  {
   "cell_type": "code",
   "execution_count": 14,
   "id": "8ed323d7",
   "metadata": {},
   "outputs": [
    {
     "name": "stdout",
     "output_type": "stream",
     "text": [
      "Requirement already satisfied: sklearn in c:\\users\\sirichandana\\anaconda3\\lib\\site-packages (0.0)\n",
      "Requirement already satisfied: scikit-learn in c:\\users\\sirichandana\\anaconda3\\lib\\site-packages (from sklearn) (0.24.1)\n",
      "Requirement already satisfied: threadpoolctl>=2.0.0 in c:\\users\\sirichandana\\anaconda3\\lib\\site-packages (from scikit-learn->sklearn) (2.1.0)\n",
      "Requirement already satisfied: scipy>=0.19.1 in c:\\users\\sirichandana\\anaconda3\\lib\\site-packages (from scikit-learn->sklearn) (1.6.2)\n",
      "Requirement already satisfied: joblib>=0.11 in c:\\users\\sirichandana\\anaconda3\\lib\\site-packages (from scikit-learn->sklearn) (1.0.1)\n",
      "Requirement already satisfied: numpy>=1.13.3 in c:\\users\\sirichandana\\anaconda3\\lib\\site-packages (from scikit-learn->sklearn) (1.20.1)\n",
      "Note: you may need to restart the kernel to use updated packages.\n"
     ]
    }
   ],
   "source": [
    "pip install sklearn\n"
   ]
  },
  {
   "cell_type": "code",
   "execution_count": 15,
   "id": "33b80b38",
   "metadata": {},
   "outputs": [],
   "source": [
    "from sklearn.metrics import confusion_matrix,classification_report,accuracy_score"
   ]
  },
  {
   "cell_type": "code",
   "execution_count": 16,
   "id": "024915ce",
   "metadata": {},
   "outputs": [],
   "source": [
    "def gen_metrics(model,x_train,x_test,y_train,y_test):\n",
    "    ypred=model.predict(x_test)\n",
    "    cm = confusion_matrix(y_test,ypred)\n",
    "    print('confusion matrix\\n',cm)\n",
    "    print('Classification report\\n',classification_report(y_test,ypred))\n",
    "    print('Acc score',accuracy_score(y_test,ypred))\n",
    "    print('Training score',model.score(x_train,y_train))\n",
    "    print('Testing score',model.score(x_test,y_test))"
   ]
  },
  {
   "cell_type": "markdown",
   "id": "7dbafe72",
   "metadata": {},
   "source": [
    "#### Logistsic Regression"
   ]
  },
  {
   "cell_type": "code",
   "execution_count": 17,
   "id": "cc938962",
   "metadata": {},
   "outputs": [
    {
     "data": {
      "text/plain": [
       "LogisticRegression(max_iter=1000)"
      ]
     },
     "execution_count": 17,
     "metadata": {},
     "output_type": "execute_result"
    }
   ],
   "source": [
    "from sklearn.linear_model import LogisticRegression\n",
    "m1=LogisticRegression(max_iter=1000)\n",
    "m1.fit(x_train,y_train)"
   ]
  },
  {
   "cell_type": "code",
   "execution_count": 18,
   "id": "37290c20",
   "metadata": {},
   "outputs": [
    {
     "name": "stdout",
     "output_type": "stream",
     "text": [
      "confusion matrix\n",
      " [[267  60]\n",
      " [  9 298]]\n",
      "Classification report\n",
      "               precision    recall  f1-score   support\n",
      "\n",
      "      female       0.97      0.82      0.89       327\n",
      "        male       0.83      0.97      0.90       307\n",
      "\n",
      "    accuracy                           0.89       634\n",
      "   macro avg       0.90      0.89      0.89       634\n",
      "weighted avg       0.90      0.89      0.89       634\n",
      "\n",
      "Acc score 0.8911671924290221\n",
      "Training score 0.9123914759273876\n",
      "Testing score 0.8911671924290221\n"
     ]
    }
   ],
   "source": [
    "gen_metrics(m1,x_train,x_test,y_train,y_test)"
   ]
  },
  {
   "cell_type": "markdown",
   "id": "a467736f",
   "metadata": {},
   "source": [
    "#### DecisionTreeClassifier"
   ]
  },
  {
   "cell_type": "code",
   "execution_count": 19,
   "id": "a290c3f9",
   "metadata": {},
   "outputs": [
    {
     "data": {
      "text/plain": [
       "DecisionTreeClassifier(max_depth=7, min_samples_split=15)"
      ]
     },
     "execution_count": 19,
     "metadata": {},
     "output_type": "execute_result"
    }
   ],
   "source": [
    "from sklearn.tree import DecisionTreeClassifier\n",
    "m2=DecisionTreeClassifier(criterion='gini',max_depth=7,min_samples_split=15)\n",
    "m2.fit(x_train,y_train)"
   ]
  },
  {
   "cell_type": "code",
   "execution_count": 20,
   "id": "94134da7",
   "metadata": {},
   "outputs": [
    {
     "name": "stdout",
     "output_type": "stream",
     "text": [
      "confusion matrix\n",
      " [[316  11]\n",
      " [ 12 295]]\n",
      "Classification report\n",
      "               precision    recall  f1-score   support\n",
      "\n",
      "      female       0.96      0.97      0.96       327\n",
      "        male       0.96      0.96      0.96       307\n",
      "\n",
      "    accuracy                           0.96       634\n",
      "   macro avg       0.96      0.96      0.96       634\n",
      "weighted avg       0.96      0.96      0.96       634\n",
      "\n",
      "Acc score 0.9637223974763407\n",
      "Training score 0.9865824782951855\n",
      "Testing score 0.9637223974763407\n"
     ]
    }
   ],
   "source": [
    "gen_metrics(m2,x_train,x_test,y_train,y_test)"
   ]
  },
  {
   "cell_type": "markdown",
   "id": "32ce5bb7",
   "metadata": {},
   "source": [
    "#### RandomForest"
   ]
  },
  {
   "cell_type": "code",
   "execution_count": 39,
   "id": "290ca95b",
   "metadata": {},
   "outputs": [
    {
     "data": {
      "text/plain": [
       "RandomForestClassifier(criterion='entropy', max_depth=7, min_samples_split=15,\n",
       "                       n_estimators=70)"
      ]
     },
     "execution_count": 39,
     "metadata": {},
     "output_type": "execute_result"
    }
   ],
   "source": [
    "from sklearn.ensemble import RandomForestClassifier\n",
    "m3 = RandomForestClassifier(n_estimators=70,criterion='entropy',max_depth=7,min_samples_split=15)\n",
    "m3.fit(x_train,y_train)"
   ]
  },
  {
   "cell_type": "code",
   "execution_count": 40,
   "id": "76119269",
   "metadata": {},
   "outputs": [
    {
     "name": "stdout",
     "output_type": "stream",
     "text": [
      "confusion matrix\n",
      " [[317  10]\n",
      " [  7 300]]\n",
      "Classification report\n",
      "               precision    recall  f1-score   support\n",
      "\n",
      "      female       0.98      0.97      0.97       327\n",
      "        male       0.97      0.98      0.97       307\n",
      "\n",
      "    accuracy                           0.97       634\n",
      "   macro avg       0.97      0.97      0.97       634\n",
      "weighted avg       0.97      0.97      0.97       634\n",
      "\n",
      "Acc score 0.973186119873817\n",
      "Training score 0.98973954222573\n",
      "Testing score 0.973186119873817\n"
     ]
    }
   ],
   "source": [
    "gen_metrics(m3,x_train,x_test,y_train,y_test)"
   ]
  },
  {
   "cell_type": "markdown",
   "id": "9d8a91b7",
   "metadata": {},
   "source": [
    "#### SVM\n"
   ]
  },
  {
   "cell_type": "code",
   "execution_count": 29,
   "id": "13dc9628",
   "metadata": {},
   "outputs": [
    {
     "data": {
      "text/plain": [
       "SVC(C=1, kernel='linear')"
      ]
     },
     "execution_count": 29,
     "metadata": {},
     "output_type": "execute_result"
    }
   ],
   "source": [
    "from sklearn.svm import SVC\n",
    "m4=SVC(kernel='linear',C=1)\n",
    "m4.fit(x_train,y_train)"
   ]
  },
  {
   "cell_type": "code",
   "execution_count": 30,
   "id": "4dd3f93e",
   "metadata": {},
   "outputs": [
    {
     "name": "stdout",
     "output_type": "stream",
     "text": [
      "confusion matrix\n",
      " [[272  55]\n",
      " [  8 299]]\n",
      "Classification report\n",
      "               precision    recall  f1-score   support\n",
      "\n",
      "      female       0.97      0.83      0.90       327\n",
      "        male       0.84      0.97      0.90       307\n",
      "\n",
      "    accuracy                           0.90       634\n",
      "   macro avg       0.91      0.90      0.90       634\n",
      "weighted avg       0.91      0.90      0.90       634\n",
      "\n",
      "Acc score 0.9006309148264984\n",
      "Training score 0.9234411996842936\n",
      "Testing score 0.9006309148264984\n"
     ]
    }
   ],
   "source": [
    "gen_metrics(m4,x_train,x_test,y_train,y_test)"
   ]
  },
  {
   "cell_type": "markdown",
   "id": "cc65771c",
   "metadata": {},
   "source": [
    "#### KNN"
   ]
  },
  {
   "cell_type": "code",
   "execution_count": 37,
   "id": "c30cdc06",
   "metadata": {},
   "outputs": [
    {
     "data": {
      "text/plain": [
       "KNeighborsClassifier(n_neighbors=35)"
      ]
     },
     "execution_count": 37,
     "metadata": {},
     "output_type": "execute_result"
    }
   ],
   "source": [
    "from sklearn.neighbors import KNeighborsClassifier\n",
    "m5=KNeighborsClassifier(n_neighbors=35)\n",
    "m5.fit(x_train,y_train)"
   ]
  },
  {
   "cell_type": "code",
   "execution_count": 38,
   "id": "9d1bdb71",
   "metadata": {},
   "outputs": [
    {
     "name": "stdout",
     "output_type": "stream",
     "text": [
      "confusion matrix\n",
      " [[211 116]\n",
      " [ 81 226]]\n",
      "Classification report\n",
      "               precision    recall  f1-score   support\n",
      "\n",
      "      female       0.72      0.65      0.68       327\n",
      "        male       0.66      0.74      0.70       307\n",
      "\n",
      "    accuracy                           0.69       634\n",
      "   macro avg       0.69      0.69      0.69       634\n",
      "weighted avg       0.69      0.69      0.69       634\n",
      "\n",
      "Acc score 0.6892744479495269\n",
      "Training score 0.7154696132596685\n",
      "Testing score 0.6892744479495269\n"
     ]
    }
   ],
   "source": [
    "gen_metrics(m5,x_train,x_test,y_train,y_test)"
   ]
  },
  {
   "cell_type": "code",
   "execution_count": 31,
   "id": "3a244ff5",
   "metadata": {},
   "outputs": [],
   "source": [
    "#Best algorithms based on the accuarcy-Randomforest\n",
    "#Best algorithms based on the precision-Randomforest\n",
    "#Best algorithms based on the recall-Randomforest\n",
    "#Order of Best performed  algorithms on this dataset\n",
    "#1.Random Forest\n",
    "#2.Decision Tree \n",
    "#3.SVM\n",
    "#4.Logistic Regression\n",
    "#5.KNN"
   ]
  },
  {
   "cell_type": "code",
   "execution_count": null,
   "id": "f6887f4e",
   "metadata": {},
   "outputs": [],
   "source": []
  }
 ],
 "metadata": {
  "kernelspec": {
   "display_name": "Python 3",
   "language": "python",
   "name": "python3"
  },
  "language_info": {
   "codemirror_mode": {
    "name": "ipython",
    "version": 3
   },
   "file_extension": ".py",
   "mimetype": "text/x-python",
   "name": "python",
   "nbconvert_exporter": "python",
   "pygments_lexer": "ipython3",
   "version": "3.8.8"
  }
 },
 "nbformat": 4,
 "nbformat_minor": 5
}
